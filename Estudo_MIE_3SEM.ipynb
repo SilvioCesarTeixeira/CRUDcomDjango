{
  "nbformat": 4,
  "nbformat_minor": 0,
  "metadata": {
    "colab": {
      "name": "Estudo MIE 3SEM.ipynb",
      "provenance": [],
      "collapsed_sections": [],
      "authorship_tag": "ABX9TyOw/EOf68NwrSNx9jlGxFKo"
    },
    "kernelspec": {
      "name": "python3",
      "display_name": "Python 3"
    },
    "language_info": {
      "name": "python"
    }
  },
  "cells": [
    {
      "cell_type": "code",
      "execution_count": 16,
      "metadata": {
        "id": "UFT7BB0zwSqN"
      },
      "outputs": [],
      "source": [
        "import numpy as np\n",
        "import pandas as pd\n",
        "import matplotlib.pyplot as plt\n",
        "import seaborn as sns\n",
        "from google.colab import files\n",
        "import statsmodels.api as sm\n",
        "import pandas.util.testing as tm"
      ]
    },
    {
      "cell_type": "code",
      "source": [
        "x = [7.01, 7.11, 7.12, 7.24, 7.94, 7.94, 8.04, 8.05, 8.07, 8.90, 8.94, 8.95, 8.97, 8.98, 9.85, 9.86, 9.86, 9.87]\n",
        "y= [60, 67 , 66, 52, 50, 45, 52, 48, 40, 23, 20, 40, 31, 26, 9, 22, 13, 7]"
      ],
      "metadata": {
        "id": "ZRbGtCxkv1pk"
      },
      "execution_count": 4,
      "outputs": []
    },
    {
      "cell_type": "code",
      "source": [
        "df = pd.DataFrame(data={'pH': x, '% arsênio removido':y})\n",
        "df"
      ],
      "metadata": {
        "colab": {
          "base_uri": "https://localhost:8080/",
          "height": 614
        },
        "id": "nMKGuekQw9u8",
        "outputId": "615cf47b-4c4d-42d3-dc48-9a798fe2e1b3"
      },
      "execution_count": 21,
      "outputs": [
        {
          "output_type": "execute_result",
          "data": {
            "text/plain": [
              "      pH  % arsênio removido\n",
              "0   7.01                  60\n",
              "1   7.11                  67\n",
              "2   7.12                  66\n",
              "3   7.24                  52\n",
              "4   7.94                  50\n",
              "5   7.94                  45\n",
              "6   8.04                  52\n",
              "7   8.05                  48\n",
              "8   8.07                  40\n",
              "9   8.90                  23\n",
              "10  8.94                  20\n",
              "11  8.95                  40\n",
              "12  8.97                  31\n",
              "13  8.98                  26\n",
              "14  9.85                   9\n",
              "15  9.86                  22\n",
              "16  9.86                  13\n",
              "17  9.87                   7"
            ],
            "text/html": [
              "\n",
              "  <div id=\"df-0ef946c4-3b8d-44dd-86bf-c83509fa6dee\">\n",
              "    <div class=\"colab-df-container\">\n",
              "      <div>\n",
              "<style scoped>\n",
              "    .dataframe tbody tr th:only-of-type {\n",
              "        vertical-align: middle;\n",
              "    }\n",
              "\n",
              "    .dataframe tbody tr th {\n",
              "        vertical-align: top;\n",
              "    }\n",
              "\n",
              "    .dataframe thead th {\n",
              "        text-align: right;\n",
              "    }\n",
              "</style>\n",
              "<table border=\"1\" class=\"dataframe\">\n",
              "  <thead>\n",
              "    <tr style=\"text-align: right;\">\n",
              "      <th></th>\n",
              "      <th>pH</th>\n",
              "      <th>% arsênio removido</th>\n",
              "    </tr>\n",
              "  </thead>\n",
              "  <tbody>\n",
              "    <tr>\n",
              "      <th>0</th>\n",
              "      <td>7.01</td>\n",
              "      <td>60</td>\n",
              "    </tr>\n",
              "    <tr>\n",
              "      <th>1</th>\n",
              "      <td>7.11</td>\n",
              "      <td>67</td>\n",
              "    </tr>\n",
              "    <tr>\n",
              "      <th>2</th>\n",
              "      <td>7.12</td>\n",
              "      <td>66</td>\n",
              "    </tr>\n",
              "    <tr>\n",
              "      <th>3</th>\n",
              "      <td>7.24</td>\n",
              "      <td>52</td>\n",
              "    </tr>\n",
              "    <tr>\n",
              "      <th>4</th>\n",
              "      <td>7.94</td>\n",
              "      <td>50</td>\n",
              "    </tr>\n",
              "    <tr>\n",
              "      <th>5</th>\n",
              "      <td>7.94</td>\n",
              "      <td>45</td>\n",
              "    </tr>\n",
              "    <tr>\n",
              "      <th>6</th>\n",
              "      <td>8.04</td>\n",
              "      <td>52</td>\n",
              "    </tr>\n",
              "    <tr>\n",
              "      <th>7</th>\n",
              "      <td>8.05</td>\n",
              "      <td>48</td>\n",
              "    </tr>\n",
              "    <tr>\n",
              "      <th>8</th>\n",
              "      <td>8.07</td>\n",
              "      <td>40</td>\n",
              "    </tr>\n",
              "    <tr>\n",
              "      <th>9</th>\n",
              "      <td>8.90</td>\n",
              "      <td>23</td>\n",
              "    </tr>\n",
              "    <tr>\n",
              "      <th>10</th>\n",
              "      <td>8.94</td>\n",
              "      <td>20</td>\n",
              "    </tr>\n",
              "    <tr>\n",
              "      <th>11</th>\n",
              "      <td>8.95</td>\n",
              "      <td>40</td>\n",
              "    </tr>\n",
              "    <tr>\n",
              "      <th>12</th>\n",
              "      <td>8.97</td>\n",
              "      <td>31</td>\n",
              "    </tr>\n",
              "    <tr>\n",
              "      <th>13</th>\n",
              "      <td>8.98</td>\n",
              "      <td>26</td>\n",
              "    </tr>\n",
              "    <tr>\n",
              "      <th>14</th>\n",
              "      <td>9.85</td>\n",
              "      <td>9</td>\n",
              "    </tr>\n",
              "    <tr>\n",
              "      <th>15</th>\n",
              "      <td>9.86</td>\n",
              "      <td>22</td>\n",
              "    </tr>\n",
              "    <tr>\n",
              "      <th>16</th>\n",
              "      <td>9.86</td>\n",
              "      <td>13</td>\n",
              "    </tr>\n",
              "    <tr>\n",
              "      <th>17</th>\n",
              "      <td>9.87</td>\n",
              "      <td>7</td>\n",
              "    </tr>\n",
              "  </tbody>\n",
              "</table>\n",
              "</div>\n",
              "      <button class=\"colab-df-convert\" onclick=\"convertToInteractive('df-0ef946c4-3b8d-44dd-86bf-c83509fa6dee')\"\n",
              "              title=\"Convert this dataframe to an interactive table.\"\n",
              "              style=\"display:none;\">\n",
              "        \n",
              "  <svg xmlns=\"http://www.w3.org/2000/svg\" height=\"24px\"viewBox=\"0 0 24 24\"\n",
              "       width=\"24px\">\n",
              "    <path d=\"M0 0h24v24H0V0z\" fill=\"none\"/>\n",
              "    <path d=\"M18.56 5.44l.94 2.06.94-2.06 2.06-.94-2.06-.94-.94-2.06-.94 2.06-2.06.94zm-11 1L8.5 8.5l.94-2.06 2.06-.94-2.06-.94L8.5 2.5l-.94 2.06-2.06.94zm10 10l.94 2.06.94-2.06 2.06-.94-2.06-.94-.94-2.06-.94 2.06-2.06.94z\"/><path d=\"M17.41 7.96l-1.37-1.37c-.4-.4-.92-.59-1.43-.59-.52 0-1.04.2-1.43.59L10.3 9.45l-7.72 7.72c-.78.78-.78 2.05 0 2.83L4 21.41c.39.39.9.59 1.41.59.51 0 1.02-.2 1.41-.59l7.78-7.78 2.81-2.81c.8-.78.8-2.07 0-2.86zM5.41 20L4 18.59l7.72-7.72 1.47 1.35L5.41 20z\"/>\n",
              "  </svg>\n",
              "      </button>\n",
              "      \n",
              "  <style>\n",
              "    .colab-df-container {\n",
              "      display:flex;\n",
              "      flex-wrap:wrap;\n",
              "      gap: 12px;\n",
              "    }\n",
              "\n",
              "    .colab-df-convert {\n",
              "      background-color: #E8F0FE;\n",
              "      border: none;\n",
              "      border-radius: 50%;\n",
              "      cursor: pointer;\n",
              "      display: none;\n",
              "      fill: #1967D2;\n",
              "      height: 32px;\n",
              "      padding: 0 0 0 0;\n",
              "      width: 32px;\n",
              "    }\n",
              "\n",
              "    .colab-df-convert:hover {\n",
              "      background-color: #E2EBFA;\n",
              "      box-shadow: 0px 1px 2px rgba(60, 64, 67, 0.3), 0px 1px 3px 1px rgba(60, 64, 67, 0.15);\n",
              "      fill: #174EA6;\n",
              "    }\n",
              "\n",
              "    [theme=dark] .colab-df-convert {\n",
              "      background-color: #3B4455;\n",
              "      fill: #D2E3FC;\n",
              "    }\n",
              "\n",
              "    [theme=dark] .colab-df-convert:hover {\n",
              "      background-color: #434B5C;\n",
              "      box-shadow: 0px 1px 3px 1px rgba(0, 0, 0, 0.15);\n",
              "      filter: drop-shadow(0px 1px 2px rgba(0, 0, 0, 0.3));\n",
              "      fill: #FFFFFF;\n",
              "    }\n",
              "  </style>\n",
              "\n",
              "      <script>\n",
              "        const buttonEl =\n",
              "          document.querySelector('#df-0ef946c4-3b8d-44dd-86bf-c83509fa6dee button.colab-df-convert');\n",
              "        buttonEl.style.display =\n",
              "          google.colab.kernel.accessAllowed ? 'block' : 'none';\n",
              "\n",
              "        async function convertToInteractive(key) {\n",
              "          const element = document.querySelector('#df-0ef946c4-3b8d-44dd-86bf-c83509fa6dee');\n",
              "          const dataTable =\n",
              "            await google.colab.kernel.invokeFunction('convertToInteractive',\n",
              "                                                     [key], {});\n",
              "          if (!dataTable) return;\n",
              "\n",
              "          const docLinkHtml = 'Like what you see? Visit the ' +\n",
              "            '<a target=\"_blank\" href=https://colab.research.google.com/notebooks/data_table.ipynb>data table notebook</a>'\n",
              "            + ' to learn more about interactive tables.';\n",
              "          element.innerHTML = '';\n",
              "          dataTable['output_type'] = 'display_data';\n",
              "          await google.colab.output.renderOutput(dataTable, element);\n",
              "          const docLink = document.createElement('div');\n",
              "          docLink.innerHTML = docLinkHtml;\n",
              "          element.appendChild(docLink);\n",
              "        }\n",
              "      </script>\n",
              "    </div>\n",
              "  </div>\n",
              "  "
            ]
          },
          "metadata": {},
          "execution_count": 21
        }
      ]
    },
    {
      "cell_type": "code",
      "source": [
        "df1 = pd.DataFrame(data=df)\n",
        "print(df1)\n",
        "c0=df1[df1.columns[0]]\n",
        "c1=df1[df1.columns[1]]\n",
        "#print(c0)\n",
        "#print(c1)"
      ],
      "metadata": {
        "colab": {
          "base_uri": "https://localhost:8080/"
        },
        "id": "Kdn48Hnc1lDy",
        "outputId": "d30dcc84-4c9f-49f8-accb-f1b9a1ceb56f"
      },
      "execution_count": 40,
      "outputs": [
        {
          "output_type": "stream",
          "name": "stdout",
          "text": [
            "      pH  % arsênio removido\n",
            "0   7.01                  60\n",
            "1   7.11                  67\n",
            "2   7.12                  66\n",
            "3   7.24                  52\n",
            "4   7.94                  50\n",
            "5   7.94                  45\n",
            "6   8.04                  52\n",
            "7   8.05                  48\n",
            "8   8.07                  40\n",
            "9   8.90                  23\n",
            "10  8.94                  20\n",
            "11  8.95                  40\n",
            "12  8.97                  31\n",
            "13  8.98                  26\n",
            "14  9.85                   9\n",
            "15  9.86                  22\n",
            "16  9.86                  13\n",
            "17  9.87                   7\n"
          ]
        }
      ]
    },
    {
      "cell_type": "code",
      "source": [
        "df1 = pd.DataFrame(data=df)\n",
        "plt.rcParams.update({'figure.figsize':(8,6), 'figure.dpi':100})\n",
        "plt.scatter(c0,c1)\n",
        "plt.xlabel(df1.columns[0]);\n",
        "plt.ylabel(df1.columns[1])\n",
        "plt.grid(True)\n",
        "plt.show()"
      ],
      "metadata": {
        "colab": {
          "base_uri": "https://localhost:8080/",
          "height": 538
        },
        "id": "pmXpD23Y2CnH",
        "outputId": "120d29c6-4ae9-4758-f870-d0eb30d1d0fd"
      },
      "execution_count": 44,
      "outputs": [
        {
          "output_type": "display_data",
          "data": {
            "text/plain": [
              "<Figure size 800x600 with 1 Axes>"
            ],
            "image/png": "[encoded data removed]"
          },
          "metadata": {
            "needs_background": "light"
          }
        }
      ]
    },
    {
      "cell_type": "code",
      "source": [
        "# fonte: Adaptado de https://github.com/OpenGenus/quark/blob/master/code/code/artificial_intelligence/src/Linear_Regression/linear_regression.py\n",
        "#import numpy as np\n",
        "#import matplotlib.pyplot as plt\n",
        "def estimate_coef(x, y):\n",
        "    # Número de amostras\n",
        "    n = np.size(x)\n",
        " \n",
        "    # média dos valores x e y\n",
        "    m_x = np.mean(x)\n",
        "    m_y = np.mean(y)\n",
        " \n",
        "    # Calculo da relação cruzada e correlação de x\n",
        "    SS_xy = np.sum(y*x) - n*m_y*m_x\n",
        "    SS_xx = np.sum(x*x) - n*m_x*m_x\n",
        " \n",
        "    # Aplicar as fórmulas para obter os parÂmetros beta 0 e beta 1\n",
        "    b_1 = SS_xy / SS_xx\n",
        "    b_0 = m_y - b_1 * m_x\n",
        "    return (b_0, b_1)\n",
        "\n",
        " #criar gráfico para observar o resultado\n",
        "def plot_regression_line(x, y, b):\n",
        "    # plotting the actual points as scatter plot\n",
        "    plt.scatter(x, y, color = \"m\",\n",
        "               marker = \"o\", s = 30)\n",
        " \n",
        "    # predicted response vector\n",
        "    y_pred = b[0] + b[1]*x\n",
        " \n",
        "    # plotting the regression line\n",
        "    plt.plot(x, y_pred, color = \"g\")\n",
        " \n",
        "    # putting labels\n",
        "    plt.xlabel(df1.columns[0])\n",
        "    plt.ylabel(df1.columns[1])\n",
        " \n",
        "    # function to show plot\n",
        "    plt.grid(True)\n",
        "    plt.show()\n",
        " \n",
        "def main():\n",
        "    # definir os dados (variáveis) x e y\n",
        "    x= df[df1.columns[0]]  # variável preditora\n",
        "    y= df[df1.columns[1]] # variável resposta  \n",
        " \n",
        " \n",
        "    # estimar os coeficientes ou parâmetros\n",
        "    b = estimate_coef(x, y)\n",
        "    print(\"Estimated coefficients:\\nb_0 = {}  \\\n",
        "          \\nb_1 = {}\".format(b[0], b[1]))\n",
        " \n",
        "    # plotar a curva de regressão linear\n",
        "    plot_regression_line(x, y, b)\n",
        " \n",
        "if __name__ == \"__main__\":\n",
        "    main()"
      ],
      "metadata": {
        "colab": {
          "base_uri": "https://localhost:8080/",
          "height": 593
        },
        "id": "FTZK5VKTNtqO",
        "outputId": "ce218b80-ded0-48a0-b8d7-20f67c54cc47"
      },
      "execution_count": 45,
      "outputs": [
        {
          "output_type": "stream",
          "name": "stdout",
          "text": [
            "Estimated coefficients:\n",
            "b_0 = 190.26829324780505            \n",
            "b_1 = -18.034245438510087\n"
          ]
        },
        {
          "output_type": "display_data",
          "data": {
            "text/plain": [
              "<Figure size 800x600 with 1 Axes>"
            ],
            "image/png": "[encoded data removed]"
          },
          "metadata": {
            "needs_background": "light"
          }
        }
      ]
    },
    {
      "cell_type": "code",
      "source": [
        "plt.rcParams.update({'figure.figsize':(10,8), 'figure.dpi':100})\n",
        "sns.lmplot(x=df1.columns[0], y=df1.columns[1], data=df);plt.grid(True)"
      ],
      "metadata": {
        "colab": {
          "base_uri": "https://localhost:8080/",
          "height": 506
        },
        "id": "9JNwb7eRfV2J",
        "outputId": "da9c10ca-c5d4-4b14-f4d9-70236548d13f"
      },
      "execution_count": 46,
      "outputs": [
        {
          "output_type": "display_data",
          "data": {
            "text/plain": [
              "<Figure size 500x500 with 1 Axes>"
            ],
            "image/png": "[encoded data removed]"
          },
          "metadata": {
            "needs_background": "light"
          }
        }
      ]
    },
    {
      "cell_type": "markdown",
      "source": [
        "# Obter a equação da reta de mínimos quadrados - Opção 2 - Utilizando numpy\n",
        "$y= \\beta_0 + \\beta_1 x_1$  "
      ],
      "metadata": {
        "id": "Q-mQSVg4sqkj"
      }
    },
    {
      "cell_type": "code",
      "source": [
        "z = np.polyfit(x,y,1)\n",
        "print('y= {0} {1}x'.format(z[1],z[0]))"
      ],
      "metadata": {
        "colab": {
          "base_uri": "https://localhost:8080/"
        },
        "id": "KWzDm4RrwCqg",
        "outputId": "947b07d9-7e58-4798-f16f-dcad0fb52975"
      },
      "execution_count": 48,
      "outputs": [
        {
          "output_type": "stream",
          "name": "stdout",
          "text": [
            "y= 190.268293247797 -18.034245438509146x\n"
          ]
        }
      ]
    },
    {
      "cell_type": "markdown",
      "source": [
        "# Obter a equação da reta de mínimos quadrados - Opção 3 - Utilizando API Statsmodels\n",
        "$y= \\beta_0 + \\beta_1 x_1$  "
      ],
      "metadata": {
        "id": "bEDh4ZUPQBcb"
      }
    },
    {
      "cell_type": "code",
      "source": [
        "x = sm.add_constant(x)\n",
        "modelo = sm.OLS(y, x).fit() #\n",
        "print(modelo.summary())"
      ],
      "metadata": {
        "colab": {
          "base_uri": "https://localhost:8080/"
        },
        "id": "3hptBUuMnahg",
        "outputId": "8bfdc7af-695b-48fc-d333-89191d9a9a4a"
      },
      "execution_count": 49,
      "outputs": [
        {
          "output_type": "stream",
          "name": "stdout",
          "text": [
            "                            OLS Regression Results                            \n",
            "==============================================================================\n",
            "Dep. Variable:                      y   R-squared:                       0.903\n",
            "Model:                            OLS   Adj. R-squared:                  0.897\n",
            "Method:                 Least Squares   F-statistic:                     149.7\n",
            "Date:                Sat, 02 Apr 2022   Prob (F-statistic):           1.55e-09\n",
            "Time:                        20:28:18   Log-Likelihood:                -57.105\n",
            "No. Observations:                  18   AIC:                             118.2\n",
            "Df Residuals:                      16   BIC:                             120.0\n",
            "Df Model:                           1                                         \n",
            "Covariance Type:            nonrobust                                         \n",
            "==============================================================================\n",
            "                 coef    std err          t      P>|t|      [0.025      0.975]\n",
            "------------------------------------------------------------------------------\n",
            "const        190.2683     12.587     15.116      0.000     163.585     216.952\n",
            "x1           -18.0342      1.474    -12.235      0.000     -21.159     -14.910\n",
            "==============================================================================\n",
            "Omnibus:                        1.191   Durbin-Watson:                   2.184\n",
            "Prob(Omnibus):                  0.551   Jarque-Bera (JB):                0.908\n",
            "Skew:                           0.268   Prob(JB):                        0.635\n",
            "Kurtosis:                       2.040   Cond. No.                         75.5\n",
            "==============================================================================\n",
            "\n",
            "Warnings:\n",
            "[1] Standard Errors assume that the covariance matrix of the errors is correctly specified.\n"
          ]
        },
        {
          "output_type": "stream",
          "name": "stderr",
          "text": [
            "/usr/local/lib/python3.7/dist-packages/scipy/stats/stats.py:1535: UserWarning: kurtosistest only valid for n>=20 ... continuing anyway, n=18\n",
            "  \"anyway, n=%i\" % int(n))\n"
          ]
        }
      ]
    },
    {
      "cell_type": "code",
      "source": [
        "dfmo = pd.DataFrame(modelo.summary().tables[1].data)\n",
        "# Select first row as column names:\n",
        "dfmo.columns = dfmo.iloc[0, :]\n",
        "# Select first column as row names\n",
        "dfmo.index = dfmo.iloc[:, 0]\n",
        "# Remove the first (i.e. 0th) column and first row\n",
        "dfmo = dfmo.iloc[1:, 1:]\n",
        "# Print relevant info only\n",
        "print(dfmo.iloc[:,[0, 1, 4, 5]])"
      ],
      "metadata": {
        "colab": {
          "base_uri": "https://localhost:8080/"
        },
        "id": "S-Qs1PjNnLS7",
        "outputId": "5d0a36f2-49d2-4b1b-fc16-acb79866020e"
      },
      "execution_count": 50,
      "outputs": [
        {
          "output_type": "stream",
          "name": "stdout",
          "text": [
            "0            coef    std err     [0.025     0.975]\n",
            "                                                  \n",
            "const    190.2683     12.587    163.585    216.952\n",
            "x1       -18.0342      1.474    -21.159    -14.910\n"
          ]
        },
        {
          "output_type": "stream",
          "name": "stderr",
          "text": [
            "/usr/local/lib/python3.7/dist-packages/scipy/stats/stats.py:1535: UserWarning: kurtosistest only valid for n>=20 ... continuing anyway, n=18\n",
            "  \"anyway, n=%i\" % int(n))\n"
          ]
        }
      ]
    },
    {
      "cell_type": "code",
      "source": [
        "#obter os valores esperados de y\n",
        "#$\\hat{y}_i=\\hat{\\beta_0} + \\hat{\\beta_1} x_i$ \n",
        "ychapeu = modelo.fittedvalues\n",
        "ychapeu\n",
        "dfy = pd.DataFrame(data=ychapeu)\n",
        "dfy"
      ],
      "metadata": {
        "id": "BjOpyvL0Nj1m",
        "colab": {
          "base_uri": "https://localhost:8080/",
          "height": 614
        },
        "outputId": "f8ec0dac-d179-4c20-f4be-f3c44084c37f"
      },
      "execution_count": 70,
      "outputs": [
        {
          "output_type": "execute_result",
          "data": {
            "text/plain": [
              "            0\n",
              "0   63.848233\n",
              "1   62.044808\n",
              "2   61.864466\n",
              "3   59.700356\n",
              "4   47.076384\n",
              "5   47.076384\n",
              "6   45.272960\n",
              "7   45.092617\n",
              "8   44.731933\n",
              "9   29.763509\n",
              "10  29.042139\n",
              "11  28.861797\n",
              "12  28.501112\n",
              "13  28.320769\n",
              "14  12.630976\n",
              "15  12.450633\n",
              "16  12.450633\n",
              "17  12.270291"
            ],
            "text/html": [
              "\n",
              "  <div id=\"df-15a3b2f3-7335-4f84-bca3-b2aa717d3109\">\n",
              "    <div class=\"colab-df-container\">\n",
              "      <div>\n",
              "<style scoped>\n",
              "    .dataframe tbody tr th:only-of-type {\n",
              "        vertical-align: middle;\n",
              "    }\n",
              "\n",
              "    .dataframe tbody tr th {\n",
              "        vertical-align: top;\n",
              "    }\n",
              "\n",
              "    .dataframe thead th {\n",
              "        text-align: right;\n",
              "    }\n",
              "</style>\n",
              "<table border=\"1\" class=\"dataframe\">\n",
              "  <thead>\n",
              "    <tr style=\"text-align: right;\">\n",
              "      <th></th>\n",
              "      <th>0</th>\n",
              "    </tr>\n",
              "  </thead>\n",
              "  <tbody>\n",
              "    <tr>\n",
              "      <th>0</th>\n",
              "      <td>63.848233</td>\n",
              "    </tr>\n",
              "    <tr>\n",
              "      <th>1</th>\n",
              "      <td>62.044808</td>\n",
              "    </tr>\n",
              "    <tr>\n",
              "      <th>2</th>\n",
              "      <td>61.864466</td>\n",
              "    </tr>\n",
              "    <tr>\n",
              "      <th>3</th>\n",
              "      <td>59.700356</td>\n",
              "    </tr>\n",
              "    <tr>\n",
              "      <th>4</th>\n",
              "      <td>47.076384</td>\n",
              "    </tr>\n",
              "    <tr>\n",
              "      <th>5</th>\n",
              "      <td>47.076384</td>\n",
              "    </tr>\n",
              "    <tr>\n",
              "      <th>6</th>\n",
              "      <td>45.272960</td>\n",
              "    </tr>\n",
              "    <tr>\n",
              "      <th>7</th>\n",
              "      <td>45.092617</td>\n",
              "    </tr>\n",
              "    <tr>\n",
              "      <th>8</th>\n",
              "      <td>44.731933</td>\n",
              "    </tr>\n",
              "    <tr>\n",
              "      <th>9</th>\n",
              "      <td>29.763509</td>\n",
              "    </tr>\n",
              "    <tr>\n",
              "      <th>10</th>\n",
              "      <td>29.042139</td>\n",
              "    </tr>\n",
              "    <tr>\n",
              "      <th>11</th>\n",
              "      <td>28.861797</td>\n",
              "    </tr>\n",
              "    <tr>\n",
              "      <th>12</th>\n",
              "      <td>28.501112</td>\n",
              "    </tr>\n",
              "    <tr>\n",
              "      <th>13</th>\n",
              "      <td>28.320769</td>\n",
              "    </tr>\n",
              "    <tr>\n",
              "      <th>14</th>\n",
              "      <td>12.630976</td>\n",
              "    </tr>\n",
              "    <tr>\n",
              "      <th>15</th>\n",
              "      <td>12.450633</td>\n",
              "    </tr>\n",
              "    <tr>\n",
              "      <th>16</th>\n",
              "      <td>12.450633</td>\n",
              "    </tr>\n",
              "    <tr>\n",
              "      <th>17</th>\n",
              "      <td>12.270291</td>\n",
              "    </tr>\n",
              "  </tbody>\n",
              "</table>\n",
              "</div>\n",
              "      <button class=\"colab-df-convert\" onclick=\"convertToInteractive('df-15a3b2f3-7335-4f84-bca3-b2aa717d3109')\"\n",
              "              title=\"Convert this dataframe to an interactive table.\"\n",
              "              style=\"display:none;\">\n",
              "        \n",
              "  <svg xmlns=\"http://www.w3.org/2000/svg\" height=\"24px\"viewBox=\"0 0 24 24\"\n",
              "       width=\"24px\">\n",
              "    <path d=\"M0 0h24v24H0V0z\" fill=\"none\"/>\n",
              "    <path d=\"M18.56 5.44l.94 2.06.94-2.06 2.06-.94-2.06-.94-.94-2.06-.94 2.06-2.06.94zm-11 1L8.5 8.5l.94-2.06 2.06-.94-2.06-.94L8.5 2.5l-.94 2.06-2.06.94zm10 10l.94 2.06.94-2.06 2.06-.94-2.06-.94-.94-2.06-.94 2.06-2.06.94z\"/><path d=\"M17.41 7.96l-1.37-1.37c-.4-.4-.92-.59-1.43-.59-.52 0-1.04.2-1.43.59L10.3 9.45l-7.72 7.72c-.78.78-.78 2.05 0 2.83L4 21.41c.39.39.9.59 1.41.59.51 0 1.02-.2 1.41-.59l7.78-7.78 2.81-2.81c.8-.78.8-2.07 0-2.86zM5.41 20L4 18.59l7.72-7.72 1.47 1.35L5.41 20z\"/>\n",
              "  </svg>\n",
              "      </button>\n",
              "      \n",
              "  <style>\n",
              "    .colab-df-container {\n",
              "      display:flex;\n",
              "      flex-wrap:wrap;\n",
              "      gap: 12px;\n",
              "    }\n",
              "\n",
              "    .colab-df-convert {\n",
              "      background-color: #E8F0FE;\n",
              "      border: none;\n",
              "      border-radius: 50%;\n",
              "      cursor: pointer;\n",
              "      display: none;\n",
              "      fill: #1967D2;\n",
              "      height: 32px;\n",
              "      padding: 0 0 0 0;\n",
              "      width: 32px;\n",
              "    }\n",
              "\n",
              "    .colab-df-convert:hover {\n",
              "      background-color: #E2EBFA;\n",
              "      box-shadow: 0px 1px 2px rgba(60, 64, 67, 0.3), 0px 1px 3px 1px rgba(60, 64, 67, 0.15);\n",
              "      fill: #174EA6;\n",
              "    }\n",
              "\n",
              "    [theme=dark] .colab-df-convert {\n",
              "      background-color: #3B4455;\n",
              "      fill: #D2E3FC;\n",
              "    }\n",
              "\n",
              "    [theme=dark] .colab-df-convert:hover {\n",
              "      background-color: #434B5C;\n",
              "      box-shadow: 0px 1px 3px 1px rgba(0, 0, 0, 0.15);\n",
              "      filter: drop-shadow(0px 1px 2px rgba(0, 0, 0, 0.3));\n",
              "      fill: #FFFFFF;\n",
              "    }\n",
              "  </style>\n",
              "\n",
              "      <script>\n",
              "        const buttonEl =\n",
              "          document.querySelector('#df-15a3b2f3-7335-4f84-bca3-b2aa717d3109 button.colab-df-convert');\n",
              "        buttonEl.style.display =\n",
              "          google.colab.kernel.accessAllowed ? 'block' : 'none';\n",
              "\n",
              "        async function convertToInteractive(key) {\n",
              "          const element = document.querySelector('#df-15a3b2f3-7335-4f84-bca3-b2aa717d3109');\n",
              "          const dataTable =\n",
              "            await google.colab.kernel.invokeFunction('convertToInteractive',\n",
              "                                                     [key], {});\n",
              "          if (!dataTable) return;\n",
              "\n",
              "          const docLinkHtml = 'Like what you see? Visit the ' +\n",
              "            '<a target=\"_blank\" href=https://colab.research.google.com/notebooks/data_table.ipynb>data table notebook</a>'\n",
              "            + ' to learn more about interactive tables.';\n",
              "          element.innerHTML = '';\n",
              "          dataTable['output_type'] = 'display_data';\n",
              "          await google.colab.output.renderOutput(dataTable, element);\n",
              "          const docLink = document.createElement('div');\n",
              "          docLink.innerHTML = docLinkHtml;\n",
              "          element.appendChild(docLink);\n",
              "        }\n",
              "      </script>\n",
              "    </div>\n",
              "  </div>\n",
              "  "
            ]
          },
          "metadata": {},
          "execution_count": 70
        }
      ]
    },
    {
      "cell_type": "code",
      "source": [
        "#calcular resíduos\n",
        "res=ychapeu-c1\n",
        "res"
      ],
      "metadata": {
        "colab": {
          "base_uri": "https://localhost:8080/"
        },
        "id": "EijisbTEYEu0",
        "outputId": "ec725740-31af-44f4-98f6-a3b0f9686509"
      },
      "execution_count": 115,
      "outputs": [
        {
          "output_type": "execute_result",
          "data": {
            "text/plain": [
              "0      3.848233\n",
              "1     -4.955192\n",
              "2     -4.135534\n",
              "3      7.700356\n",
              "4     -2.923616\n",
              "5      2.076384\n",
              "6     -6.727040\n",
              "7     -2.907383\n",
              "8      4.731933\n",
              "9      6.763509\n",
              "10     9.042139\n",
              "11   -11.138203\n",
              "12    -2.498888\n",
              "13     2.320769\n",
              "14     3.630976\n",
              "15    -9.549367\n",
              "16    -0.549367\n",
              "17     5.270291\n",
              "Name: % arsênio removido, dtype: float64"
            ]
          },
          "metadata": {},
          "execution_count": 115
        }
      ]
    },
    {
      "cell_type": "code",
      "source": [
        "# Calcular Quadrado dos resíduos\n",
        "res2=res**2\n",
        "res2"
      ],
      "metadata": {
        "colab": {
          "base_uri": "https://localhost:8080/"
        },
        "id": "PSop-Wz0em7M",
        "outputId": "00ac5075-ac44-4b1b-f354-28a1c8bb06c4"
      },
      "execution_count": 116,
      "outputs": [
        {
          "output_type": "execute_result",
          "data": {
            "text/plain": [
              "0      14.808895\n",
              "1      24.553926\n",
              "2      17.102644\n",
              "3      59.295487\n",
              "4       8.547528\n",
              "5       4.311372\n",
              "6      45.253068\n",
              "7       8.452873\n",
              "8      22.391186\n",
              "9      45.745052\n",
              "10     81.760278\n",
              "11    124.059576\n",
              "12      6.244443\n",
              "13      5.385970\n",
              "14     13.183984\n",
              "15     91.190406\n",
              "16      0.301804\n",
              "17     27.775965\n",
              "Name: % arsênio removido, dtype: float64"
            ]
          },
          "metadata": {},
          "execution_count": 116
        }
      ]
    },
    {
      "cell_type": "code",
      "source": [
        "#@title Observar os valores em tabela\n",
        "from tabulate import tabulate\n",
        "df_yo = pd.DataFrame(c1).T\n",
        "df_ych = pd.DataFrame(dfy).T\n",
        "df_ycho = pd.DataFrame(res).T\n",
        "df_ycho2 = pd.DataFrame(res2).T\n",
        "table = [df_yo,df_ych,df_ycho,df_ycho2]\n",
        "print(tabulate(table))"
      ],
      "metadata": {
        "colab": {
          "base_uri": "https://localhost:8080/"
        },
        "id": "hfrkVuSqYsYA",
        "outputId": "400029fc-140e-4006-a005-5dfc1afa895e"
      },
      "execution_count": 98,
      "outputs": [
        {
          "output_type": "stream",
          "name": "stdout",
          "text": [
            "--------  --------  --------  --------  --------  --------  --------  --------  --------  --------  --------  --------  --------  --------  --------  --------  ---------  --------\n",
            "60        67        66        52        50        45        52        48        40        23        20         40       31        26         9        22        13          7\n",
            "63.8482   62.0448   61.8645   59.7004   47.0764   47.0764   45.273    45.0926   44.7319   29.7635   29.0421    28.8618  28.5011   28.3208   12.631    12.4506   12.4506    12.2703\n",
            " 3.84823  -4.95519  -4.13553   7.70036  -2.92362   2.07638  -6.72704  -2.90738   4.73193   6.76351   9.04214  -11.1382  -2.49889   2.32077   3.63098  -9.54937  -0.549367   5.27029\n",
            "14.8089   24.5539   17.1026   59.2955    8.54753   4.31137  45.2531    8.45287  22.3912   45.7451   81.7603   124.06     6.24444   5.38597  13.184    91.1904    0.301804  27.776\n",
            "--------  --------  --------  --------  --------  --------  --------  --------  --------  --------  --------  --------  --------  --------  --------  --------  ---------  --------\n"
          ]
        }
      ]
    },
    {
      "cell_type": "markdown",
      "source": [
        "# Calcular SQE e SQT Alternativa 1 com Numpy"
      ],
      "metadata": {
        "id": "3B19SnIoSxHb"
      }
    },
    {
      "cell_type": "code",
      "source": [
        "#@title Calcular SQE e SQT Alternativa 1\n",
        "#Adaptado de https://www.statology.org/sst-ssr-sse-in-python/\n",
        "\n",
        "#calcular SQE--> Baseado nos valores esperados\n",
        "sqe = np.sum((ychapeu - df1[df1.columns[1]])**2)\n",
        "print(\"SQE=\", sqe)\n",
        "\n",
        "#calcular SQT-->Baseado nos valores observados\n",
        "sqt = np.sum((c1 - (df1[df1.columns[1]].mean()))**2)\n",
        "#sqt = np.sum((c1 - (c1.mean())))**2\n",
        "print(\"SQT=\", sqt)\n",
        "\n",
        "#calcular SQR\n",
        "sqr = sqt - sqe\n",
        "print(\"SQR=\",sqr)\n",
        "\n",
        "\n"
      ],
      "metadata": {
        "colab": {
          "base_uri": "https://localhost:8080/"
        },
        "id": "EB_g3QI8L07M",
        "outputId": "4822996d-c86d-44ce-c4e3-dde692f28275"
      },
      "execution_count": 102,
      "outputs": [
        {
          "output_type": "stream",
          "name": "stdout",
          "text": [
            "SQE= 600.364456075747\n",
            "SQT= 6217.611111111111\n",
            "SQR= 5617.246655035365\n"
          ]
        }
      ]
    },
    {
      "cell_type": "markdown",
      "source": [
        "# Calcular o coeficiente de determinação $r^2$"
      ],
      "metadata": {
        "id": "la9-jETalJnZ"
      }
    },
    {
      "cell_type": "code",
      "source": [
        "r2=1-sqe/sqt\n",
        "print(\"coeficiente de determinação=\",r2, \"ou\",r2*100, \"%\")"
      ],
      "metadata": {
        "colab": {
          "base_uri": "https://localhost:8080/"
        },
        "id": "9CgUbWbMlRIO",
        "outputId": "a2cef8bc-fa0a-4fb3-8ab5-5d7447e68fc4"
      },
      "execution_count": 103,
      "outputs": [
        {
          "output_type": "stream",
          "name": "stdout",
          "text": [
            "coeficiente de determinação= 0.9034412983785891 ou 90.34412983785892 %\n"
          ]
        }
      ]
    },
    {
      "cell_type": "markdown",
      "source": [
        "# Calcular variância estimada $s^2$ e devio padrão estimado $s$"
      ],
      "metadata": {
        "id": "rl7yzvX2b5b7"
      }
    },
    {
      "cell_type": "code",
      "source": [
        "# variância estimada $s^2$ e desvio padrão estimado $s^2$\n",
        "s2=sqe/(len(c1)-2)\n",
        "s=pow(s2,1/2)\n",
        "print('variância estimada= {0}, desvio padrão estimado= {1}'.format(s2,s))"
      ],
      "metadata": {
        "colab": {
          "base_uri": "https://localhost:8080/"
        },
        "id": "KsrhqK89cOti",
        "outputId": "c47757fb-a3db-4a46-d0eb-4606b8efdbc9"
      },
      "execution_count": 104,
      "outputs": [
        {
          "output_type": "stream",
          "name": "stdout",
          "text": [
            "variância estimada= 37.522778504734184, desvio padrão estimado= 6.12558393173534\n"
          ]
        }
      ]
    },
    {
      "cell_type": "markdown",
      "source": [
        "# Nova alternativa para calcular as variáveis  Sxx,Sxy,Syy  e o coeficiente de correlação em uma única função.\n"
      ],
      "metadata": {
        "id": "bIX6yXYHTrFD"
      }
    },
    {
      "cell_type": "code",
      "source": [
        "#O seguinte código pode também ser usado previamente para calcular SQE, SQT, SQR e r2 (Alternativa 2)\n",
        "# fonte: Adaptado de https://www.geeksforgeeks.org/sum-function-python/\n",
        "def linreg(X, Y):\n",
        "    \"\"\"\n",
        "    retorna a solução b0 e b1 para a reta y = b0 + b1x e todas as somatórias necessárias\n",
        "    \"\"\"\n",
        "    N = len(X)\n",
        "    Sx = Sy = Sxx = Syy = Sxy = 0.0\n",
        "    for x, y in zip(X, Y):\n",
        "        Sx = Sx + x           # Somatória do termos x\n",
        "        Sy = Sy + y           # Somatória do termos y\n",
        "        Sxx = Sxx + x*x       # Somatória do termos x^2\n",
        "        Syy = Syy + y*y       # Somatória do termos y^2\n",
        "        Sxy = Sxy + x*y       # Somatória do termos x vezes y\n",
        "    det = Sxx * N - Sx * Sx   # variável auxiliar\n",
        "    Sxxt= Sxx - Sx*Sx/N       # Termo Sxx\n",
        "    Sxyt= Sxy - Sx*Sy/N       # Termo Sxy  \n",
        "    Syyt= Syy - Sy*Sy/N       # Termo Syy  \n",
        "    r=Sxyt/pow((Sxxt*Syyt), 1/2)\n",
        "    return (Sxy * N - Sy * Sx)/det, (Sxx * Sy - Sx * Sxy)/det, Sx, Sy, Sxx,  Syy , Sxy, Sxxt, Sxyt, Syyt,r\n"
      ],
      "metadata": {
        "id": "ng_oXeIVmV12"
      },
      "execution_count": 105,
      "outputs": []
    },
    {
      "cell_type": "code",
      "source": [
        "#Mostrar os resultados\n",
        "b1,b0,sox,soy,sox2,soy2,soxy,sxx,sxy,syy,corr = linreg(df1[df1.columns[0]],df1[df1.columns[1]])  #\n",
        "print('b0= {0},b1= {1}'.format(b0,b1))\n",
        "print('Somatória x= {0}, Somatória y= {1},Somatória xy= {2}'.format(sox,soy,soxy))\n",
        "print('Somatória x^2= {0}, Somatória y^2= {1}'.format(sox2,soy2))\n",
        "print('Sxx= {0}, Syy {1}, Sxy {2}'.format(sxx,syy,sxy))\n",
        "print('r= {0}'.format(corr))"
      ],
      "metadata": {
        "colab": {
          "base_uri": "https://localhost:8080/"
        },
        "id": "nupQb0LipHWf",
        "outputId": "02fc84b9-fd7c-4357-d573-45554353d1f6"
      },
      "execution_count": 95,
      "outputs": [
        {
          "output_type": "stream",
          "name": "stdout",
          "text": [
            "b0= 190.26829324780633,b1= -18.034245438510254\n",
            "Somatória x= 152.70000000000005, Somatória y= 671.0,Somatória xy= 5380.84\n",
            "Somatória x^2= 1312.6763999999998, Somatória y^2= 31231.0\n",
            "Sxx= 17.27139999999895, Syy 6217.6111111111095, Sxy -311.4766666666683\n",
            "r= -0.9504952910870488\n"
          ]
        }
      ]
    },
    {
      "cell_type": "markdown",
      "source": [
        "## SQE e SQT Alternativa 2\n",
        "Visto que os valores de Sxx, Syy e Sxy estão disponíveis, pode se também usar a simples susbtituição nas respectivas fórmulas de SQE e SQT\n"
      ],
      "metadata": {
        "id": "gWGzKtInw7Xm"
      }
    },
    {
      "cell_type": "code",
      "source": [
        "#SQE e SQT Alternativa 2\n",
        "sqe=syy-b1*sxy\n",
        "sqt=syy\n",
        "sqr=sqt-sqe\n",
        "sqe,sqt,sqr\n",
        "print('SQE= {0}, SQT {1}, SQR {2}'.format(sqe,sqt,sqr))"
      ],
      "metadata": {
        "colab": {
          "base_uri": "https://localhost:8080/"
        },
        "id": "wcqtp5yiwCNj",
        "outputId": "dce11b1e-3fb7-49ee-bbd7-6bb6ffc03aab"
      },
      "execution_count": 106,
      "outputs": [
        {
          "output_type": "stream",
          "name": "stdout",
          "text": [
            "SQE= 600.3644560753683, SQT 6217.6111111111095, SQR 5617.246655035741\n"
          ]
        }
      ]
    },
    {
      "cell_type": "markdown",
      "source": [
        "#Verificar o intervalo de confiança de $\\beta_1$\n",
        "\n",
        "Considerando a reta obtida dos dados de todos os motores $y= 12,14401  -0.00135 x_1$.\n",
        "\n",
        "Para finalizar, calcular o **erro padrão de ${\\beta_1}$** com a seguinte equação\n",
        "\n",
        "$s_{\\hat{\\beta_1}}=\\frac{s}{\\sqrt{S_{xx}}}$\n"
      ],
      "metadata": {
        "id": "KjLbeeLklsxb"
      }
    },
    {
      "cell_type": "code",
      "source": [
        "sB1 = float(dfmo[\"std err\"][\"x1\"])\n",
        "ebeta=s/pow(sxx,1/2)\n",
        "\n",
        "print(f'sB1={ebeta} é igual ao calculado pela API.Statsmodel sB1={sB1}')"
      ],
      "metadata": {
        "colab": {
          "base_uri": "https://localhost:8080/"
        },
        "id": "V4tY-5IebwdC",
        "outputId": "07826e55-eed1-4f3e-e9ff-c8ac7ca3340d"
      },
      "execution_count": 109,
      "outputs": [
        {
          "output_type": "stream",
          "name": "stdout",
          "text": [
            "sB1=1.4739532996453206 é igual ao calculado pela API.Statsmodel sB1=1.474\n"
          ]
        }
      ]
    },
    {
      "cell_type": "markdown",
      "source": [
        "## Probabilidade t-student e intervalo de confiança "
      ],
      "metadata": {
        "id": "rx-5Rna4r5Us"
      }
    },
    {
      "cell_type": "code",
      "source": [
        "import statsmodels.api as sm\n",
        "# Automatic calculation\n",
        "lm_fit = modelo#sm.OLS(y, x_mat).fit()\n",
        "# dir(lm_fit)\n",
        "# Get the summary table with coefficients and other statistics\n",
        "df = pd.DataFrame(lm_fit.summary().tables[1].data)\n",
        "# Select first row as column names:\n",
        "df.columns = df.iloc[0, :]\n",
        "# Select first column as row names\n",
        "df.index = df.iloc[:, 0]\n",
        "# Remove the first (i.e. 0th) column and first row\n",
        "df = df.iloc[1:, 1:]\n",
        "# Print relevant info only\n",
        "print(df.iloc[:,[0, 1, 4, 5]])"
      ],
      "metadata": {
        "colab": {
          "base_uri": "https://localhost:8080/"
        },
        "id": "WWn8VlYEmNxn",
        "outputId": "afb91461-964b-4cfa-d94d-2ff6897f5cc2"
      },
      "execution_count": 110,
      "outputs": [
        {
          "output_type": "stream",
          "name": "stdout",
          "text": [
            "0            coef    std err     [0.025     0.975]\n",
            "                                                  \n",
            "const    190.2683     12.587    163.585    216.952\n",
            "x1       -18.0342      1.474    -21.159    -14.910\n"
          ]
        },
        {
          "output_type": "stream",
          "name": "stderr",
          "text": [
            "/usr/local/lib/python3.7/dist-packages/scipy/stats/stats.py:1535: UserWarning: kurtosistest only valid for n>=20 ... continuing anyway, n=18\n",
            "  \"anyway, n=%i\" % int(n))\n"
          ]
        }
      ]
    },
    {
      "cell_type": "markdown",
      "source": [
        "#Vamos usar a tabela T-Student para encontrar o t-crítico com o nível de significância  alpha = 5% (índice de confiança igual a 95%) "
      ],
      "metadata": {
        "id": "Hw1NeGTNe0c7"
      }
    },
    {
      "cell_type": "code",
      "source": [
        "#usar a tabela tstudent t0,025:N-2\n",
        "from scipy.stats import t\n",
        "alpha = 0.05  # nÍvel de significia = 5% \n",
        "df = len(c1) - 2  # graus de liberdade (Número de amostras menos dois)                                     \n",
        "#\n",
        "v = t.ppf(1 - alpha/2, df) \n",
        "print(f'O Tcrítico= {v}') "
      ],
      "metadata": {
        "id": "o3SuBvZ0t8dO",
        "colab": {
          "base_uri": "https://localhost:8080/"
        },
        "outputId": "4f87d096-c355-4267-d8f6-bb0085d1e58d"
      },
      "execution_count": 113,
      "outputs": [
        {
          "output_type": "stream",
          "name": "stdout",
          "text": [
            "O Tcrítico= 2.1199052992210112\n"
          ]
        }
      ]
    },
    {
      "cell_type": "code",
      "source": [
        "#Finalmente calcular o IC de b1\n",
        "ICbeta1= b1+v*ebeta\n",
        "ICbeta2= b1-v*ebeta\n",
        "ICbeta2,ICbeta1,b1,v,ebeta\n",
        "print('O intevalo de confiança é {0} < b1 < {1}'.format(ICbeta2,ICbeta1))"
      ],
      "metadata": {
        "colab": {
          "base_uri": "https://localhost:8080/"
        },
        "id": "LQ0Y4MV4utMZ",
        "outputId": "60315f75-3f26-4338-e68f-79f05a2121b9"
      },
      "execution_count": 114,
      "outputs": [
        {
          "output_type": "stream",
          "name": "stdout",
          "text": [
            "O intevalo de confiança é -21.158886849232665 < b1 < -14.909604027787843\n"
          ]
        }
      ]
    }
  ]
}